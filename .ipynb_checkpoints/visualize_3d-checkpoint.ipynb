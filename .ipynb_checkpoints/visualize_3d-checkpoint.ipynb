{
 "cells": [
  {
   "cell_type": "code",
   "execution_count": 1,
   "metadata": {},
   "outputs": [
    {
     "name": "stdout",
     "output_type": "stream",
     "text": [
      "======\n",
      "Loading NuScenes tables for version v1.0-mini...\n",
      "23 category,\n",
      "8 attribute,\n",
      "4 visibility,\n",
      "911 instance,\n",
      "12 sensor,\n",
      "120 calibrated_sensor,\n",
      "31206 ego_pose,\n",
      "8 log,\n",
      "10 scene,\n",
      "404 sample,\n",
      "31206 sample_data,\n",
      "18538 sample_annotation,\n",
      "4 map,\n",
      "Done loading in 0.226 seconds.\n",
      "======\n",
      "Reverse indexing ...\n",
      "Done reverse indexing in 0.0 seconds.\n",
      "======\n"
     ]
    }
   ],
   "source": [
    "%matplotlib inline\n",
    "from new_methods.new_methods import My_NuScenes\n",
    "\n",
    "nusc = My_NuScenes(version='v1.0-mini', dataroot='/data/datasets/nuscenes', verbose=True)"
   ]
  },
  {
   "cell_type": "code",
   "execution_count": 2,
   "metadata": {},
   "outputs": [],
   "source": [
    "import os.path as osp\n",
    "\n",
    "# base_path = 'New_Sample/{}/{}_Hazy/Hazy/Day'\n",
    "# image_path = base_path.format('원천데이터', 'TS')\n",
    "# label_path = base_path.format('라벨링데이터', 'TL')\n",
    "\n",
    "# cameras = ('Back', 'Front', 'IR', 'Left', 'Right')\n",
    "# lidars = ('Lidar_Center', 'Lidar_Left', 'Lidar_Right')\n",
    "\n",
    "FRAME_IDX = 1"
   ]
  },
  {
   "cell_type": "code",
   "execution_count": 3,
   "metadata": {},
   "outputs": [],
   "source": [
    "token = nusc.sample[FRAME_IDX]['token']"
   ]
  },
  {
   "cell_type": "code",
   "execution_count": 4,
   "metadata": {
    "scrolled": true
   },
   "outputs": [
    {
     "data": {
      "text/plain": [
       "{'token': '39586f9d59004284a7114a68825e8eec',\n",
       " 'timestamp': 1532402928147847,\n",
       " 'prev': 'ca9a282c9e77460f8360f564131a8af5',\n",
       " 'next': '356d81f38dd9473ba590f39e266f54e5',\n",
       " 'scene_token': 'cc8c0bf57f984915a77078b10eb33198',\n",
       " 'data': {'RADAR_FRONT': 'b70cefb08263499eb30c7e7da0031428',\n",
       "  'RADAR_FRONT_LEFT': 'b5cd02b25f0944f19c0d123fa1fc54ec',\n",
       "  'RADAR_FRONT_RIGHT': '9b628ce4952a4a839962b77a76630e23',\n",
       "  'RADAR_BACK_LEFT': '28b610ada2b545d1a5a1bf9d08af0285',\n",
       "  'RADAR_BACK_RIGHT': '07a62118eb3b43ffa1d833f250ff6f80',\n",
       "  'LIDAR_TOP': '4f792c8da81e4cb7aca1790654da1c27',\n",
       "  'CAM_FRONT': '4b6870ae200c4b969b91c50a9737f712',\n",
       "  'CAM_FRONT_RIGHT': '5c026763ad8146e89c6ee53da26331dc',\n",
       "  'CAM_BACK_RIGHT': 'c339f7629fdf4c219e30ca1790b53773',\n",
       "  'CAM_BACK': '661d9842bbb44b208f867f2061c4f535',\n",
       "  'CAM_BACK_LEFT': '9320f00a62c24b80972048de7a742b4c',\n",
       "  'CAM_FRONT_LEFT': '2b9d52c5c777455eb31831860c6fc117'},\n",
       " 'anns': ['7987617983634b119e383d8a29607fd7',\n",
       "  '216bbbd8e01c450a8fabe9d47433c10a',\n",
       "  'f0cbd9dbafd74e20bcf6dd0357c97f59',\n",
       "  'fa50c062687e4464a61a8b0573a10c22',\n",
       "  'e958e94168224872a04b92c4a01b8969',\n",
       "  '86214ec54d034a839ee1f400719d49b2',\n",
       "  'b343000164024be9b8572a618e355f1b',\n",
       "  '8161dbd026154299827eb67bf053ecc3',\n",
       "  '75ac043ddcec4ae0851ddc55dc8daaa3',\n",
       "  'aeb21de4f59a4691824913ed70503382',\n",
       "  'd30007cfae714a6d8ef0cf2dd2c6f11f',\n",
       "  '92ccde9818424044a35666b849d69604',\n",
       "  'f7bd5e1eb03d42129d3028556126550c',\n",
       "  '3d21c6f374b045b38199753eefb4b4c9',\n",
       "  '8746d5fa037546f7b9e828136d5b3f93',\n",
       "  'b513ebe5caff4775a0dfacc7e3a5444e',\n",
       "  '91e697e7cef44ceea98e0e9b936dd6d1',\n",
       "  'a286c9633fa34da5b978758f348996b0',\n",
       "  'e8d06e222fcf4d73a489b47372395c77',\n",
       "  'f3721bdfd7ee4fd2a4f94874286df471',\n",
       "  '7e077a909fda478caedde939b6114202',\n",
       "  'c7b83d36eeee4fa4bfd1f565aaa8acdb',\n",
       "  'ccc807889c0447aca7506483a5039e3f',\n",
       "  '33e241c339a64d8d9154f2e2e895a6a5',\n",
       "  'bc1d4ea644d1481e9ec4294194d8b36e',\n",
       "  '596a48b4ae9a4e39abf73a769ecd57b6',\n",
       "  '0d5ecc64875b4c449644820e90cf370c',\n",
       "  '0b0faa191f5e4ca493a0138c9c638a10',\n",
       "  '91937fcf68224fbd97ec4de10ec4e447',\n",
       "  '0c2e8cc786ef466aa57220124064f9bc',\n",
       "  '7788c8da648a4cacbc1162170b60d251',\n",
       "  'a54c5f88cde94ec7b85c805d7508977e',\n",
       "  '8cd7a57d01fd414ebd876b941385412f',\n",
       "  '207b68a889234a67a3e7293577a92c6f',\n",
       "  'a585b19590f24cfda029e0146939e59d',\n",
       "  '87d1cd0a2e2f4df98c6284a82db7a825',\n",
       "  'c0e4421e1f0d461888fae1ca02b282a5',\n",
       "  '148b3b0a63434e8d8dd0c2b56dcc4fa5',\n",
       "  '7eec555789624d289c858d00bbd2e536',\n",
       "  'daaf3497584b483d9ece486193d19253',\n",
       "  'bb732bdb7db44e988f601e86a507bad9',\n",
       "  '4784de4304d2419dbddb9aba2748fa69',\n",
       "  '9068983ddd8d4350b100b9aeca46513e',\n",
       "  '6bd43869a39842d5860364b5274d011f',\n",
       "  'ce7bc7f5f1204c0bafcb7d324fb1010e',\n",
       "  '56d7672e42344cffacac1f63eac22399',\n",
       "  '787ce4c9d8e840d399c390e259fa62d4',\n",
       "  'd665640e61b44fd3b8eb0f5bf22500d0',\n",
       "  '4fb160492de64e00b76f4e316c19cb1c',\n",
       "  '0987293d3d1442ac90a734bd46ab5806',\n",
       "  'fff98c3617674b27b0a3de1e4c349f38',\n",
       "  'defab169e0ef44968e7be7a1eb8206f6',\n",
       "  '94c8df8118124c4eab2bcd174b067361',\n",
       "  '20ab41cb3717401c9110337f6df5b503',\n",
       "  '4d0ee98ebc4f42bbbf5e56f9060f27cf',\n",
       "  'bc6607bc76414e45bbfd3c4d7e0f9b75',\n",
       "  '5a8d17e460b845f09c234825f6105f72',\n",
       "  '77683fc2daa343d4b4c53271d955c70b',\n",
       "  'e19bcee3376d4eb290f535351fba9584',\n",
       "  '439996c12d594d84a1b941e80ba5a5a4',\n",
       "  '51f9796d6dc845568604e234e18b1d5f',\n",
       "  'bc306bd900d348429ff25d2cfde3e32d',\n",
       "  '44e1ff031bfb4079969d37f3985d58e1',\n",
       "  'c558f6c905f14aaf834040c49ab65be9',\n",
       "  '1801e160a84945a98351291cbeabfb1a',\n",
       "  '4c11366a4a34421ea93e64e921c694dd',\n",
       "  '9ed7c37eeefb4fa7be2caadff3b7e778',\n",
       "  '0e2f39f80e3647fdbd27fa0bcea8be40',\n",
       "  'f81a1d5a7dc449c4aa2e385265ba87d6',\n",
       "  'ae589a5a2bdb4813ae8021cd51b7e6eb',\n",
       "  'efd7920348664b34a0b213698e480e21',\n",
       "  '48474dd075e6454b8fa25682b3133f10',\n",
       "  'c2fc09130a1d43a4a04a29a48fdebe2c',\n",
       "  '12dbd66c80ab4335ba0c97f7b4839952',\n",
       "  'cca7cd489fdf47dc9419a8bd27a09af4',\n",
       "  '84895462e744418abedd7cfef913c09f',\n",
       "  '99f1a004b89d4d129be1aa441f706c84',\n",
       "  'c5774936c46742ce9ef427016bc3ac6e']}"
      ]
     },
     "execution_count": 4,
     "metadata": {},
     "output_type": "execute_result"
    }
   ],
   "source": [
    "record = nusc.get('sample', token)\n",
    "record"
   ]
  },
  {
   "cell_type": "code",
   "execution_count": 5,
   "metadata": {},
   "outputs": [
    {
     "name": "stdout",
     "output_type": "stream",
     "text": [
      "{'RADAR_FRONT': 'b70cefb08263499eb30c7e7da0031428', 'RADAR_FRONT_LEFT': 'b5cd02b25f0944f19c0d123fa1fc54ec', 'RADAR_FRONT_RIGHT': '9b628ce4952a4a839962b77a76630e23', 'RADAR_BACK_LEFT': '28b610ada2b545d1a5a1bf9d08af0285', 'RADAR_BACK_RIGHT': '07a62118eb3b43ffa1d833f250ff6f80'}\n",
      "{'CAM_FRONT': '4b6870ae200c4b969b91c50a9737f712', 'CAM_FRONT_RIGHT': '5c026763ad8146e89c6ee53da26331dc', 'CAM_BACK_RIGHT': 'c339f7629fdf4c219e30ca1790b53773', 'CAM_BACK': '661d9842bbb44b208f867f2061c4f535', 'CAM_BACK_LEFT': '9320f00a62c24b80972048de7a742b4c', 'CAM_FRONT_LEFT': '2b9d52c5c777455eb31831860c6fc117'}\n",
      "{'LIDAR_TOP': '4f792c8da81e4cb7aca1790654da1c27'}\n"
     ]
    }
   ],
   "source": [
    "radar_data = {}\n",
    "camera_data = {}\n",
    "lidar_data = {}\n",
    "for channel, token in record['data'].items():\n",
    "    sd_record = nusc.get('sample_data', token)\n",
    "    sensor_modality = sd_record['sensor_modality']\n",
    "\n",
    "    if sensor_modality == 'camera':\n",
    "        camera_data[channel] = token\n",
    "    elif sensor_modality == 'lidar':\n",
    "        lidar_data[channel] = token\n",
    "    else:\n",
    "        radar_data[channel] = token\n",
    "\n",
    "print(radar_data)\n",
    "print(camera_data)\n",
    "print(lidar_data)"
   ]
  },
  {
   "cell_type": "markdown",
   "metadata": {},
   "source": [
    "## LiDAR"
   ]
  },
  {
   "cell_type": "code",
   "execution_count": 6,
   "metadata": {},
   "outputs": [
    {
     "data": {
      "text/plain": [
       "'/data/datasets/nuscenes/samples/RADAR_FRONT/n015-2018-07-24-11-22-45+0800__RADAR_FRONT__1532402928114656.pcd'"
      ]
     },
     "execution_count": 6,
     "metadata": {},
     "output_type": "execute_result"
    }
   ],
   "source": [
    "pointsensor = nusc.get('sample_data', radar_data['RADAR_FRONT'])\n",
    "pcl_path = osp.join(nusc.dataroot, pointsensor['filename'])\n",
    "pcl_path"
   ]
  },
  {
   "cell_type": "code",
   "execution_count": 7,
   "metadata": {},
   "outputs": [
    {
     "data": {
      "text/plain": [
       "array([[  3.8,   3.9,   0. , ...,   1. ,  17. ,   3. ],\n",
       "       [  4.2,   3.7,   0. , ...,   1. ,  17. ,   3. ],\n",
       "       [  4.4,   4.9,   0. , ...,   1. ,  18. ,   3. ],\n",
       "       ...,\n",
       "       [108. ,  -0.3,   0. , ...,   3. ,  16. ,   3. ],\n",
       "       [100.8, -39.3,   0. , ...,   1. ,  16. ,   3. ],\n",
       "       [ 98.8, -44.3,   0. , ...,   1. ,  16. ,   3. ]], dtype=float32)"
      ]
     },
     "execution_count": 7,
     "metadata": {},
     "output_type": "execute_result"
    }
   ],
   "source": [
    "# !pip install pypcd4\n",
    "from pypcd4 import PointCloud\n",
    "\n",
    "# lidar = lidars[0]\n",
    "# label_filename = sorted(glob.glob(os.path.join(label_path, lidar, '*.json')))[FRAME_IDX]\n",
    "# lidar_filename = os.path.join(image_path, lidar, os.path.basename(label_filename).rstrip('.json'))\n",
    "# print(lidar_filename)\n",
    "\n",
    "points = PointCloud.from_path(pcl_path)\n",
    "points = points.numpy()\n",
    "points"
   ]
  },
  {
   "cell_type": "code",
   "execution_count": 8,
   "metadata": {},
   "outputs": [],
   "source": [
    "# https://pythreejs.readthedocs.io/en/stable/api/index.html\n",
    "# !pip install pythreejs\n",
    "import pythreejs as pjs\n",
    "import numpy as np\n",
    "\n",
    "def visualize_3d(xyz, rgb=None, size=0.1, height=960, width=960):\n",
    "    points_buf = pjs.BufferAttribute(array=xyz)\n",
    "    geometryAttrs = {'position': points_buf}\n",
    "\n",
    "    if rgb is not None:\n",
    "        colors_buf = pjs.BufferAttribute(array=rgb)\n",
    "        geometryAttrs['color'] = colors_buf\n",
    "    \n",
    "    geometry = pjs.BufferGeometry(attributes=geometryAttrs)\n",
    "\n",
    "    material = pjs.PointsMaterial(vertexColors='VertexColors', size=size)\n",
    "    pointCloud = pjs.Points(geometry=geometry, material=material)\n",
    "\n",
    "    pythreejs_camera = pjs.PerspectiveCamera(    \n",
    "        up=[1, 0, 1],\n",
    "        children=[pjs.DirectionalLight(color='black', intensity=0.5)])\n",
    "\n",
    "    pythreejs_camera.rotateX(np.pi/4)\n",
    "    pythreejs_camera.position = (-15., 0., 30.)\n",
    "    \n",
    "    scene = pjs.Scene(children=[\n",
    "                    pointCloud,                    \n",
    "                    pythreejs_camera,\n",
    "                    pjs.AmbientLight(color='#777777')])\n",
    "    \n",
    "    axes = pjs.AxesHelper(size=3)\n",
    "    scene.add(axes)\n",
    "        \n",
    "    control = pjs.OrbitControls(controlling=pythreejs_camera)\n",
    "    renderer = pjs.Renderer(camera=pythreejs_camera, \n",
    "                        scene=scene, \n",
    "                        width=width,\n",
    "                        height=height,\n",
    "                        preserveDrawingBuffer=True,\n",
    "                        controls=[control])\n",
    "    \n",
    "    return renderer\n"
   ]
  },
  {
   "cell_type": "code",
   "execution_count": 9,
   "metadata": {},
   "outputs": [],
   "source": [
    "def render_cube(scene, obj):\n",
    "\n",
    "    x = obj['geometry']['position']['x']\n",
    "    y = obj['geometry']['position']['y']\n",
    "    z = obj['geometry']['position']['z']\n",
    "\n",
    "    width = obj['geometry']['dimensions']['x']\n",
    "    height = obj['geometry']['dimensions']['y']\n",
    "    depth = obj['geometry']['dimensions']['z']\n",
    "\n",
    "    yaw = obj['geometry']['rotation']['z']\n",
    "\n",
    "    geometry = pjs.BoxGeometry(width, height, depth)\n",
    "    material = pjs.MeshBasicMaterial(color='#0000ff', transparent=True, opacity=0.2)\n",
    "    box = pjs.Mesh(geometry, material)\n",
    "    box.rotateX(np.pi/2)\n",
    "    # box.rotateY(-yaw)\n",
    "    box.rotateY(yaw)\n",
    "\n",
    "    box.position = (x, y, z)\n",
    "    \n",
    "    renderer.scene.add(box)\n",
    "\n",
    "    return box"
   ]
  },
  {
   "cell_type": "code",
   "execution_count": 10,
   "metadata": {},
   "outputs": [],
   "source": [
    "# with open(label_filename, 'r') as f:\n",
    "#     label = json.load(f)\n",
    "\n",
    "# label.keys()"
   ]
  },
  {
   "cell_type": "code",
   "execution_count": 11,
   "metadata": {
    "scrolled": true
   },
   "outputs": [
    {
     "data": {
      "application/vnd.jupyter.widget-view+json": {
       "model_id": "9e7cb3660e20465cb8a90ede75961f34",
       "version_major": 2,
       "version_minor": 0
      },
      "text/plain": [
       "Renderer(camera=PerspectiveCamera(children=(DirectionalLight(color='black', intensity=0.5, position=(0.0, 0.0,…"
      ]
     },
     "execution_count": 11,
     "metadata": {},
     "output_type": "execute_result"
    }
   ],
   "source": [
    "renderer = visualize_3d(points)\n",
    "# boxes = [render_cube(renderer.scene, obj) for obj in label['figures']]\n",
    "renderer"
   ]
  },
  {
   "cell_type": "code",
   "execution_count": 12,
   "metadata": {},
   "outputs": [],
   "source": [
    "# renderer.scene.remove(boxes[-1])"
   ]
  },
  {
   "cell_type": "code",
   "execution_count": null,
   "metadata": {},
   "outputs": [],
   "source": []
  },
  {
   "cell_type": "code",
   "execution_count": null,
   "metadata": {},
   "outputs": [],
   "source": []
  }
 ],
 "metadata": {
  "kernelspec": {
   "display_name": "Python 3 (ipykernel)",
   "language": "python",
   "name": "python3"
  },
  "language_info": {
   "codemirror_mode": {
    "name": "ipython",
    "version": 3
   },
   "file_extension": ".py",
   "mimetype": "text/x-python",
   "name": "python",
   "nbconvert_exporter": "python",
   "pygments_lexer": "ipython3",
   "version": "3.8.18"
  }
 },
 "nbformat": 4,
 "nbformat_minor": 4
}
